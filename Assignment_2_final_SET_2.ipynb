{
  "nbformat": 4,
  "nbformat_minor": 0,
  "metadata": {
    "colab": {
      "provenance": [],
      "authorship_tag": "ABX9TyMgQVSdfY18LSH08bX8Vko1",
      "include_colab_link": true
    },
    "kernelspec": {
      "name": "python3",
      "display_name": "Python 3"
    },
    "language_info": {
      "name": "python"
    }
  },
  "cells": [
    {
      "cell_type": "markdown",
      "metadata": {
        "id": "view-in-github",
        "colab_type": "text"
      },
      "source": [
        "<a href=\"https://colab.research.google.com/github/JAYTRIVEDI2510/JAYTRIVEDI2510/blob/ASSIGNMENTS/Assignment_2_final_SET_2.ipynb\" target=\"_parent\"><img src=\"https://colab.research.google.com/assets/colab-badge.svg\" alt=\"Open In Colab\"/></a>"
      ]
    },
    {
      "cell_type": "code",
      "execution_count": null,
      "metadata": {
        "id": "hLZBOxgmsWn5"
      },
      "outputs": [],
      "source": [
        "import pandas as pd\n",
        "import numpy as np\n",
        "import statistics as st\n",
        "from scipy import stats\n",
        "import scipy.stats as stats"
      ]
    },
    {
      "cell_type": "markdown",
      "source": [
        "Q-1.\tThe time required for servicing transmissions is normally distributed with  = 45 minutes and  = 8 minutes. The service manager plans to have work begin on the transmission of a customer’s car 10 minutes after the car is dropped off and the customer is told that the car will be ready within 1 hour from drop-off. What is the probability that the service manager cannot meet his commitment?\n",
        "\n",
        "A.\t0.3875   \n",
        "B.\t0.2676   \n",
        "C.\t0.5   \n",
        "D.\t0.6987\n",
        "\n",
        "## **ANS: B**"
      ],
      "metadata": {
        "id": "moySaZMWtqJJ"
      }
    },
    {
      "cell_type": "code",
      "source": [
        "mean=45+10\n",
        "X=60\n",
        "STD=8\n",
        "Z=(X-mean)/STD\n",
        "print(\"Z is:\",Z)\n",
        "stats.norm.cdf(Z)"
      ],
      "metadata": {
        "colab": {
          "base_uri": "https://localhost:8080/"
        },
        "id": "4TlRetT4slPa",
        "outputId": "0da0bf40-4157-4dcb-9310-37fec9202d23"
      },
      "execution_count": null,
      "outputs": [
        {
          "output_type": "stream",
          "name": "stdout",
          "text": [
            "Z is: 0.625\n"
          ]
        },
        {
          "output_type": "execute_result",
          "data": {
            "text/plain": [
              "0.7340144709512995"
            ]
          },
          "metadata": {},
          "execution_count": 2
        }
      ]
    },
    {
      "cell_type": "code",
      "source": [
        "1-stats.norm.cdf(Z)"
      ],
      "metadata": {
        "colab": {
          "base_uri": "https://localhost:8080/"
        },
        "id": "iWCaYXVfuGvm",
        "outputId": "6a8e8560-66fc-4511-f55a-f930b8968a2b"
      },
      "execution_count": null,
      "outputs": [
        {
          "output_type": "execute_result",
          "data": {
            "text/plain": [
              "0.26598552904870054"
            ]
          },
          "metadata": {},
          "execution_count": 3
        }
      ]
    },
    {
      "cell_type": "markdown",
      "source": [
        "Q-2 The current age (in years) of 400 clerical employees at an insurance claims processing center is normally distributed with mean  = 38 and Standard deviation  =6. For each statement below, please specify True/False. If false, briefly explain why.\n",
        "\n",
        "A.\tMore employees at the processing center are older than 44 than between 38 and 44.\n",
        "\n",
        "B.\tA training program for employees under the age of 30 at the center would be expected to attract about 36 employees.\n",
        "\n",
        "## **ANS: B**\n"
      ],
      "metadata": {
        "id": "xLi2i6unucbD"
      }
    },
    {
      "cell_type": "code",
      "source": [
        "#  A. More employees at the processing center are older than 44 than between 38 and 44.\n",
        "\n",
        "Mean2=38\n",
        "STD2=6\n",
        "\n",
        "#Z Score=(Value-Mean)/(STD2)\n",
        "#Z for above 44:\n",
        "\n",
        "Z_44=(44-Mean2)/STD2\n",
        "z_44_p=stats.norm.cdf(Z_44)\n",
        "print((1-z_44_p)*400)\n",
        "\n",
        "\n",
        "#People above 44 age:\n",
        "print('People above 44 age:',round((1-z_44_p)*400,0))\n",
        "\n",
        "\n",
        "\n",
        "#people between 38 and 44 age:\n",
        "\n",
        "Z_38=(38-Mean2)/STD2\n",
        "\n",
        "z_38_p=stats.norm.cdf(Z_38)\n",
        "\n",
        "Z_44_z_38=round((z_44_p-z_38_p)*400,0)\n",
        "\n",
        "print('People between 38 and 44 age:',Z_44_z_38)"
      ],
      "metadata": {
        "colab": {
          "base_uri": "https://localhost:8080/"
        },
        "id": "-6zFIBFKuUmP",
        "outputId": "0148ed30-b9bc-4156-a83e-b17be13ddb75"
      },
      "execution_count": null,
      "outputs": [
        {
          "output_type": "stream",
          "name": "stdout",
          "text": [
            "63.46210157258283\n",
            "People above 44 age: 63.0\n",
            "People between 38 and 44 age: 137.0\n"
          ]
        }
      ]
    },
    {
      "cell_type": "code",
      "source": [
        "#B. A training program for employees under the age of 30 at the center\n",
        "# would be expected to attract about 36 employees.\n",
        "\n",
        "z_30=(30-Mean2)/STD2\n",
        "z_30_p=stats.norm.cdf(z_30)\n",
        "\n",
        "#employees under the age of 30 at the center\n",
        "\n",
        "round(z_30_p*400,0)\n"
      ],
      "metadata": {
        "colab": {
          "base_uri": "https://localhost:8080/"
        },
        "id": "FlkOJR-mu8TP",
        "outputId": "86b36165-fd1b-4688-ea13-acb9ff229bd3"
      },
      "execution_count": null,
      "outputs": [
        {
          "output_type": "execute_result",
          "data": {
            "text/plain": [
              "36.0"
            ]
          },
          "metadata": {},
          "execution_count": 7
        }
      ]
    },
    {
      "cell_type": "markdown",
      "source": [
        "Q-3 If X1 ~ N(μ, σ2) and X2 ~ N(μ, σ2) are iid normal random variables, then what is the difference between 2 X1 and X1 + X2? Discuss both their distributions and parameters.       "
      ],
      "metadata": {
        "id": "hZTm0R4cwRq9"
      }
    },
    {
      "cell_type": "markdown",
      "source": [
        "## ANS: 2X1 ~ N(2u,4σ) X1 +X2 N(u+u,σ2+σ2)~N(2u,2σ2) both distriibution have same mean and 2x1 has doubel devation than X1+X2\n",
        "\n",
        "so that they have same mean means they are identical and they have differentdevation they are idepedentally distributed."
      ],
      "metadata": {
        "id": "XrvZv_pwwhnx"
      }
    },
    {
      "cell_type": "markdown",
      "source": [
        "Q-4 Let X ~ N(100, 202). Find two values, a and b, symmetric about the mean, such that the probability of the random variable taking a value between them is 0.99.\n",
        "\n",
        "A.\t90.5, 105.9\n",
        "\n",
        "B.\t80.2, 119.8\n",
        "\n",
        "C.\t22, 78\n",
        "\n",
        "D.\t48.5, 151.5\n",
        "\n",
        "E.\t90.1, 109.9\n",
        "\n",
        "## AND : D"
      ],
      "metadata": {
        "id": "EkZTyva0w_FG"
      }
    },
    {
      "cell_type": "code",
      "source": [
        "MEAN=100\n",
        "\n",
        "STD=20\n",
        "\n",
        "#WE NEED TO FIND a and b .So the probability of the random variable taking a value between them is 0.99.\n",
        "#So Probability of random variable taking a value outside (a,b) region\n",
        "\n",
        "P_OUT=1-0.99\n",
        "\n",
        "#Left side of a and right side of b probability is:\n",
        "\n",
        "P_aL=(1-0.99)/2\n",
        "P_bR=-(1-0.99)/2\n",
        "\n",
        "#So the interval of a and b have probabilty of 0.99 is:\n",
        "\n",
        "Interval=stats.norm.interval(0.99,MEAN,STD)\n",
        "print(\"Values of a and b are:\",Interval)\n",
        "\n",
        "#Answer is D"
      ],
      "metadata": {
        "colab": {
          "base_uri": "https://localhost:8080/"
        },
        "id": "eClVJaHqu8w2",
        "outputId": "4fbf2dc8-8431-4f0c-870e-06fce3d159ac"
      },
      "execution_count": null,
      "outputs": [
        {
          "output_type": "stream",
          "name": "stdout",
          "text": [
            "Values of a and b are: (48.48341392902199, 151.516586070978)\n"
          ]
        }
      ]
    },
    {
      "cell_type": "markdown",
      "source": [
        "Q-5\tConsider a company that has two different divisions. The annual profits from the two divisions are independent and have distributions Profit1 ~ N(5, 32) and Profit2 ~ N(7, 42) respectively. Both the profits are in $ Million.\n",
        "\n",
        "Answer the following questions about the total profit of the company in Rupees. Assume that $1 = Rs. 45\n",
        "\n",
        "A.\tSpecify a Rupee range (centered on the mean) such that it contains 95% probability for the annual profit of the company.\n",
        "\n",
        "B.\tSpecify the 5th percentile of profit (in Rupees) for the company\n",
        "\n",
        "C.\tWhich of the two divisions has a larger probability of making a loss in a given year?\n"
      ],
      "metadata": {
        "id": "91RprsOPxoc-"
      }
    },
    {
      "cell_type": "code",
      "source": [
        "mean_1=5*45\n",
        "print(\"Mean of department1 in $:\",mean_1,\"Million\")\n",
        "std_1=3\n",
        "mean_2=7*45\n",
        "print(\"Mean of department1 in $:\",mean_2,\"Million\")\n",
        "std_2=4\n",
        "#A Rupee range (centered on the mean) such that it contains 95% probability for the annual profit of the company\n",
        "mean_company=mean_1+mean_2\n",
        "STD_company=np.sqrt(9+16)*45\n",
        "rupee_range=stats.norm.interval(0.95,mean_company,STD_company)\n",
        "print(\"The mean of the company \",mean_company)\n",
        "print(\"The STD of the company \",STD_company)\n",
        "print(\"Rupee rangecontains 95% probability for the annual profit of the company:\",rupee_range,\"in Million$\")"
      ],
      "metadata": {
        "colab": {
          "base_uri": "https://localhost:8080/"
        },
        "id": "qcM6ScIjxdwo",
        "outputId": "56b83c1d-1e53-4fb3-fbd0-82537b0e9322"
      },
      "execution_count": null,
      "outputs": [
        {
          "output_type": "stream",
          "name": "stdout",
          "text": [
            "Mean of department1 in $: 225 Million\n",
            "Mean of department1 in $: 315 Million\n",
            "The mean of the company  540\n",
            "The STD of the company  225.0\n",
            "Rupee rangecontains 95% probability for the annual profit of the company: (99.00810347848784, 980.9918965215122) in Million$\n"
          ]
        }
      ]
    },
    {
      "cell_type": "code",
      "source": [
        "from numpy.lib.function_base import percentile\n",
        "# B.Specify the 5th percentile of profit (in Rupees) for the company\n",
        "# 5TH PERCENTILE VALUE FROM Z TABLE\n",
        "z_5=stats.norm.ppf(0.05)\n",
        "z_5\n",
        "print(z_5)\n",
        "#5th percentile of profit is from Z=(X-Mean)/STD\n",
        "X=(z_5*STD_company)+mean_company\n",
        "print(\"5th percentile of profit (in Rupees) for the company in Million$:\",X)\n"
      ],
      "metadata": {
        "colab": {
          "base_uri": "https://localhost:8080/"
        },
        "id": "Q1sGqilZy5S2",
        "outputId": "55636598-ee43-4a0a-ce0f-72c287e39ecd"
      },
      "execution_count": null,
      "outputs": [
        {
          "output_type": "stream",
          "name": "stdout",
          "text": [
            "-1.6448536269514729\n",
            "5th percentile of profit (in Rupees) for the company in Million$: 169.9079339359186\n"
          ]
        }
      ]
    },
    {
      "cell_type": "code",
      "source": [
        "# C.Which of the two divisions has a larger probability of making a loss in a given year?\n",
        "probability_loss_1=stats.norm.cdf(0,5,3)\n",
        "probability_loss_2=stats.norm.cdf(0,7,4)\n",
        "print(\"probability of making loss by department 1:\",probability_loss_1)\n",
        "print(\"probability of making loss by department 2:\",probability_loss_2)"
      ],
      "metadata": {
        "colab": {
          "base_uri": "https://localhost:8080/"
        },
        "id": "x-j8A0VOy_fI",
        "outputId": "1c5bf809-d1bb-449b-95a5-8c9703e336a5"
      },
      "execution_count": null,
      "outputs": [
        {
          "output_type": "stream",
          "name": "stdout",
          "text": [
            "probability of making loss by department 1: 0.0477903522728147\n",
            "probability of making loss by department 2: 0.040059156863817086\n"
          ]
        }
      ]
    },
    {
      "cell_type": "code",
      "source": [],
      "metadata": {
        "id": "_qajFhZgzEMx"
      },
      "execution_count": null,
      "outputs": []
    }
  ]
}