{
  "nbformat": 4,
  "nbformat_minor": 0,
  "metadata": {
    "colab": {
      "provenance": [],
      "authorship_tag": "ABX9TyPxJEG/MSOWuaa2uv7iOBRW",
      "include_colab_link": true
    },
    "kernelspec": {
      "name": "python3",
      "display_name": "Python 3"
    },
    "language_info": {
      "name": "python"
    }
  },
  "cells": [
    {
      "cell_type": "markdown",
      "metadata": {
        "id": "view-in-github",
        "colab_type": "text"
      },
      "source": [
        "<a href=\"https://colab.research.google.com/github/JAYTRIVEDI2510/JAYTRIVEDI2510/blob/ASSIGNMENTS/Assignment_2_final_SET_3.ipynb\" target=\"_parent\"><img src=\"https://colab.research.google.com/assets/colab-badge.svg\" alt=\"Open In Colab\"/></a>"
      ]
    },
    {
      "cell_type": "markdown",
      "source": [
        "# Q-1.\n",
        "\n",
        "For each of the following statements, indicate whether it is True/False. If false, explain why.\n",
        "\n",
        "I.\tThe sample size of the survey should at least be a fixed percentage of the population size in order to produce representative results.\n",
        "\n",
        "II.\tThe sampling frame is a list of every item that appears in a survey sample, including those that did not respond to questions.\n",
        "\n",
        "III.\tLarger surveys convey a more accurate impression of the population than smaller surveys.\n"
      ],
      "metadata": {
        "id": "Mrra6pF4rcOy"
      }
    },
    {
      "cell_type": "code",
      "source": [
        "import numpy as np\n",
        "import scipy.stats as stats\n",
        "p=0.05\n",
        "q=1-p\n",
        "alpha=0.05\n",
        "phat=0.046\n",
        "n=2000\n",
        "#Here we uses one sample z test for proportins\n",
        "z_score=(phat-p)/(np.sqrt(p*q/n))\n",
        "print(z_score)\n",
        "p_value=1-stats.norm.cdf(abs(z_score))\n",
        "print(\"p_value:\",p_value)"
      ],
      "metadata": {
        "colab": {
          "base_uri": "https://localhost:8080/"
        },
        "id": "mPcrTxozrdpP",
        "outputId": "a5659502-77d6-4f7b-8a31-c05b15a18b0e"
      },
      "execution_count": null,
      "outputs": [
        {
          "output_type": "stream",
          "name": "stdout",
          "text": [
            "-0.820782681668124\n",
            "p_value: 0.20588503245107104\n"
          ]
        }
      ]
    },
    {
      "cell_type": "markdown",
      "source": [
        "#here p value is less so that we dont have that much confidance to rehegt null hypothesis we will go with null hypothesis so Mozilla has a more than 5% share of the market"
      ],
      "metadata": {
        "id": "dfLuv6Y6r8rH"
      }
    },
    {
      "cell_type": "markdown",
      "source": [
        "## Q-2.\n",
        "\n",
        "PC Magazine asked all of its readers to participate in a survey of their satisfaction with different brands of electronics. In the 2004 survey, which was included in an issue of the magazine that year, more than 9000 readers rated the products on a scale from 1 to 10. The magazine reported that the average rating assigned by 225 readers to a Kodak compact digital camera was 7.5. For this product, identify the following:\n",
        "\n",
        "A.\tThe population\n",
        "\n",
        "##**Ans:- All The readers of PC Magazine**\n",
        "\n",
        "B.\tThe parameter of interest\n",
        "\n",
        "##**Ans:- Population Size,Average,Rating Scale,Sample Size**\n",
        "\n",
        "C.\tThe sampling frame\n",
        "\n",
        "##**Ans:- 9000 all readers responded to that survey**\n",
        "\n",
        "D.\tThe sample size\n",
        "\n",
        "##**Ans:- 225 Readers**\n",
        "\n",
        "E.\tThe sampling design\n",
        "\n",
        "##**Ans:- Rating given or Response**\n",
        "\n",
        "F.\tAny potential sources of bias or other problems with the survey or sample\n",
        "\n",
        "## **Ans:- Here, the data selection procedure is impartial; nonetheless, the data is only taken into consideration among this magazine's readers, although in reality, we require data from a wide range of electronic device users.**\n"
      ],
      "metadata": {
        "id": "OvAtUBwksiPz"
      }
    },
    {
      "cell_type": "markdown",
      "source": [
        "## Q-3.\n",
        "\n",
        "For each of the following statements, indicate whether it is True/False. If false,\n",
        "explain why.\n",
        "\n",
        "I. If the 95% confidence interval for the average purchase of customers at a\n",
        "department store is $50 to $110, then $100 is a plausible value for the\n",
        "population mean at this level of confidence.\n",
        "\n",
        "##**Ans:- True**\n",
        "\n",
        "II. If the 95% confidence interval for the number of moviegoers who purchase\n",
        "concessions is 30% to 45%, this means that fewer than half of all\n",
        "moviegoers purchase concessions.\n",
        "\n",
        "##**Ans: False: We can be 95% confident that the true population proportion falls within the interval if the interval has a 95% confidence interval. Therefore, based only on this confidence interval, we are unable to conclude that less than half of all moviegoers buy concessions.**\n",
        "\n",
        "III. The 95% Confidence-Interval for µ only applies if the sample data are\n",
        "nearly normally distributed.\n",
        "\n",
        "##**Ans: False:- According to the central limit theorem, we must assume that the sample size will be larger for the 95% confidence interval. If the sample size is not significantly greater and the data is not distributed, the test is classified as a t statistical test.**"
      ],
      "metadata": {
        "id": "IleSc2LgrwUh"
      }
    },
    {
      "cell_type": "markdown",
      "source": [
        "## Q-4.\n",
        " What are the chances that ?\n",
        "\n",
        "A. ¼\n",
        "\n",
        "B. ½\n",
        "\n",
        "C. ¾\n",
        "\n",
        "D. 1\n",
        "\n",
        "##**Ans: B (This is just an assumption because the probability of obtaining alower value is obscured because there is an equal chance that the samplemean will be lower than the population mean if we assume that the sample mean is greater than 50%.)**"
      ],
      "metadata": {
        "id": "a4ttDDrztMJF"
      }
    },
    {
      "cell_type": "markdown",
      "source": [
        "# Q-5.\n",
        "\n",
        "In January 2005, a company that monitors Internet traffic\n",
        "(WebSideStory) reported that its sampling revealed that the Mozilla\n",
        "Firefox browser launched in 2004 had grabbed a 4.6% share of the\n",
        "market.\n",
        "\n",
        "I. If the sample were based on 2,000 users, could Microsoft\n",
        "conclude that Mozilla has a less than 5% share of the market?\n",
        "\n",
        "##**Ans: No**\n",
        "\n",
        "##**As the p Value > alpha for 95% confidence we failed to reject null hypothesis Ho: > 5% null hypothesis**\n",
        "\n",
        "II. WebSideStory claims that its sample includes all the daily\n",
        "Internet users. If that’s the case, then can Microsoft conclude\n",
        "that Mozilla has a less than 5% share of the market?\n",
        "\n",
        "##**Ans: Yes**"
      ],
      "metadata": {
        "id": "KchEhqoztnHT"
      }
    },
    {
      "cell_type": "markdown",
      "source": [
        "##Q-6.\n",
        "\n",
        "A book publisher monitors the size of shipments of its textbooks to\n",
        "university bookstores. For a sample of texts used at various schools,\n",
        "the 95% confidence interval for the size of the shipment was 250 ± 45\n",
        "books. Which, if any, of the following interpretations of this interval\n",
        "are correct?\n",
        "\n",
        "A. All shipments are between 205 and 295 books.\n",
        "\n",
        "##**Ans: Incorrect 95% of the time the size of the shipment will be around 250 +/- 45 books.**\n",
        "\n",
        "B. 95% of shipments are between 205 and 295 books.\n",
        "\n",
        "##**Ans: Correct**\n",
        "\n",
        "C. The procedure that produced this interval generates ranges that\n",
        "hold the population mean for 95% of samples.\n",
        "\n",
        "##**Ans: Correct**\n",
        "\n",
        "D. If we get another sample, then we can be 95% sure that the\n",
        "mean of this second sample is between 205 and 295.\n",
        "\n",
        "##**Ans: Correct**\n",
        "\n",
        "E. We can be 95% confident that the range 160 to 340 holds the\n",
        "population mean.\n",
        "\n",
        "##**Ans: Incorrect: For a normal distribution, the percentage of confidence increases as we increase the range +/- 1 sigma; it will be 97.5% when the mean lies between 160 and 340 (-3 sigma to +3 sigma).**"
      ],
      "metadata": {
        "id": "R6tTmDPAuHK-"
      }
    },
    {
      "cell_type": "markdown",
      "source": [
        "##Q-7.\n",
        "\n",
        " Which is shorter: a 95% z-interval or a 95% t-interval for µ if we know\n",
        "that σ =s?\n",
        "\n",
        "A. The z-interval is shorter\n",
        "\n",
        "B. The t-interval is shorter\n",
        "\n",
        "C. Both are equal\n",
        "\n",
        "D. We cannot say\n",
        "\n",
        "##**Ans: There is a shorter T interval. This means that the t-interval will be more conservative than the z-interval since the t-distribution has fatter tails than the conventional normal distribution.**\n",
        "\n",
        "Questions 8 and 9 are based on the following:\n",
        "\n",
        "To prepare a report on the economy, analysts need to estimate the\n",
        "percentage of businesses that plan to hire additional employees in the next\n",
        "60 days."
      ],
      "metadata": {
        "id": "nQp3ag95vlHU"
      }
    },
    {
      "cell_type": "markdown",
      "source": [
        "#Q-8.\n",
        "\n",
        "How many randomly selected employers (minimum number) must\n",
        "we contact in order to guarantee a margin of error of no more than 4%\n",
        "(at 95% confidence)?\n",
        "\n",
        "A. 600\n",
        "\n",
        "B. 400\n",
        "\n",
        "C. 550\n",
        "\n",
        "D. 1000\n",
        "\n",
        "##**Ans: A (600)**\n",
        "\n",
        "Error=z/((p*q)/sqrt(n))\n",
        "\n",
        "n=(Error)^2(p*q)/z"
      ],
      "metadata": {
        "id": "IX3nl6ybwKkS"
      }
    },
    {
      "cell_type": "code",
      "source": [
        "phat=0.5\n",
        "q=0.5\n",
        "CI=0.95\n",
        "alpha=1-CI\n",
        "z_value=stats.norm.ppf(alpha/2)\n",
        "z_value\n",
        "n=(((z_value)**2)*0.5*0.5/(0.04)**2)\n",
        "round(n)"
      ],
      "metadata": {
        "colab": {
          "base_uri": "https://localhost:8080/"
        },
        "id": "9kaf-RAluDHX",
        "outputId": "8a4a6cb1-30d0-4fa6-8fc5-bbd1cebc3803"
      },
      "execution_count": null,
      "outputs": [
        {
          "output_type": "execute_result",
          "data": {
            "text/plain": [
              "600"
            ]
          },
          "metadata": {},
          "execution_count": 3
        }
      ]
    },
    {
      "cell_type": "markdown",
      "source": [
        "# Q-9.\n",
        "\n",
        "Suppose we want the above margin of error to be based on a 98%\n",
        "confidence level. What sample size (minimum) must we now use?\n",
        "\n",
        "A. 1000\n",
        "\n",
        "B. 757\n",
        "\n",
        "C. 848\n",
        "\n",
        "D. 543\n",
        "\n",
        "##**Ans: C (848)**"
      ],
      "metadata": {
        "id": "1BqkSp2yxLkD"
      }
    },
    {
      "cell_type": "code",
      "source": [
        "phat=0.5\n",
        "q=0.5\n",
        "CI=0.98\n",
        "alpha2=1-CI\n",
        "z_value2=stats.norm.ppf((alpha2)/2)\n",
        "z_value2\n",
        "n=(((z_value2)**2)*0.5*0.5/(0.04)**2)\n",
        "round(n)\n"
      ],
      "metadata": {
        "colab": {
          "base_uri": "https://localhost:8080/"
        },
        "id": "a_mxJu6Fwv-4",
        "outputId": "f9f71fab-23f1-440b-f6b0-e2b6504760f4"
      },
      "execution_count": null,
      "outputs": [
        {
          "output_type": "execute_result",
          "data": {
            "text/plain": [
              "846"
            ]
          },
          "metadata": {},
          "execution_count": 6
        }
      ]
    },
    {
      "cell_type": "code",
      "source": [],
      "metadata": {
        "id": "iEw5OpKmxdM1"
      },
      "execution_count": null,
      "outputs": []
    }
  ]
}